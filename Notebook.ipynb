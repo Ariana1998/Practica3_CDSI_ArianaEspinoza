{
 "cells": [
  {
   "cell_type": "markdown",
   "metadata": {},
   "source": [
    "# Practica 3: Sensado y An&aacute;lisis Inercial "
   ]
  },
  {
   "cell_type": "markdown",
   "metadata": {},
   "source": [
    "<style>\n",
    "    .imagen-ajustada {\n",
    "        width: 900px;\n",
    "        height: 280px;\n",
    "        border-radius: 20px;\n",
    "    }\n",
    "</style>\n",
    "\n",
    "<img src=\"Sentadillas.png\" alt=\"Una imagen\" class=\"imagen-ajustada\">"
   ]
  },
  {
   "cell_type": "markdown",
   "metadata": {},
   "source": [
    "En el notebook que se presenta a continuaci&oacute;n se tienen que procesar los datos inerciales por medio de sensores IMU, esta pr&aacute;ctica se hace con el fin de clasificar si la persona que se encuentra haciendo sentadillas lo hace de forma correcta o incorrecta, con el fin de ayudar a que se hagan de forma correcta y eviten lesiones por hacer ejercicios de forma incorrecta.\n",
    "Los sensores IMU se pusieron uno en cada pantorrilla, uno en cada muslo y uno en la espalda baja del participante, siendo un total de 5 sensores. En total  fueron 10 participantes voluntarios en la toma de sus datos y as&iacute; utilizarlos en la pr&aacute;ctica, logrando as&iacute; poder entrenar nuestro modelo de forma eficiente.    "
   ]
  },
  {
   "cell_type": "markdown",
   "metadata": {},
   "source": [
    "## Librer&iacute;as Importadas"
   ]
  },
  {
   "cell_type": "markdown",
   "metadata": {},
   "source": [
    "## Manejo del dataset"
   ]
  },
  {
   "cell_type": "markdown",
   "metadata": {},
   "source": [
    "## An&aacute;lisis Exploratorio"
   ]
  },
  {
   "cell_type": "markdown",
   "metadata": {},
   "source": [
    "## Procesamiento de Datos"
   ]
  },
  {
   "cell_type": "markdown",
   "metadata": {},
   "source": [
    "## Extracci&oacute;n de Caracter&iacute;sticas"
   ]
  },
  {
   "cell_type": "markdown",
   "metadata": {},
   "source": [
    "## Selecci&oacute;n de Caracter&iacute;sticas"
   ]
  },
  {
   "cell_type": "markdown",
   "metadata": {},
   "source": [
    "## Validaci&oacute;n de Datos"
   ]
  },
  {
   "cell_type": "markdown",
   "metadata": {},
   "source": [
    "## Modelos a Evaluar"
   ]
  },
  {
   "cell_type": "markdown",
   "metadata": {},
   "source": [
    "## Evaluando el mejor modelo"
   ]
  },
  {
   "cell_type": "markdown",
   "metadata": {},
   "source": [
    "## Entrenando al modelo"
   ]
  },
  {
   "cell_type": "markdown",
   "metadata": {},
   "source": [
    "## Implementando el modelo"
   ]
  },
  {
   "cell_type": "markdown",
   "metadata": {},
   "source": [
    "## Conclusiones"
   ]
  }
 ],
 "metadata": {
  "language_info": {
   "name": "python"
  }
 },
 "nbformat": 4,
 "nbformat_minor": 2
}
